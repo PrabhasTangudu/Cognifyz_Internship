{
 "cells": [
  {
   "cell_type": "markdown",
   "id": "0c529ece",
   "metadata": {},
   "source": [
    "# Task 1: Restaurant Reviews"
   ]
  },
  {
   "cell_type": "code",
   "execution_count": null,
   "id": "2c9a98d6",
   "metadata": {},
   "outputs": [],
   "source": [
    "pip install wordcloud"
   ]
  },
  {
   "cell_type": "code",
   "execution_count": null,
   "id": "98b72dae",
   "metadata": {
    "scrolled": true
   },
   "outputs": [],
   "source": [
    "from wordcloud import WordCloud\n",
    "import matplotlib.pyplot as plt\n",
    "import pandas as pd"
   ]
  },
  {
   "cell_type": "code",
   "execution_count": null,
   "id": "e95aab40",
   "metadata": {},
   "outputs": [],
   "source": [
    "# Load the dataset\n",
    "df=pd.read_csv(\"Dataset .csv\")"
   ]
  },
  {
   "cell_type": "code",
   "execution_count": null,
   "id": "168436f6",
   "metadata": {},
   "outputs": [],
   "source": [
    "df.head()"
   ]
  },
  {
   "cell_type": "code",
   "execution_count": null,
   "id": "689620d8",
   "metadata": {},
   "outputs": [],
   "source": [
    "# Task 1: Analyze text reviews for positive and negative keywords\n",
    "reviews = df['Rating text'].dropna()"
   ]
  },
  {
   "cell_type": "code",
   "execution_count": null,
   "id": "abaf2b17",
   "metadata": {},
   "outputs": [],
   "source": [
    "positive_keywords = ' '.join(reviews[reviews['Aggregate rating'] > 4])\n",
    "negative_keywords = ' '.join(reviews[reviews['Aggregate rating'] <= 2])"
   ]
  },
  {
   "cell_type": "code",
   "execution_count": 2,
   "id": "109be127",
   "metadata": {},
   "outputs": [
    {
     "name": "stdout",
     "output_type": "stream",
     "text": [
      "Required columns ('Reviews' and 'Aggregate rating') are not present in the dataset.\n"
     ]
    }
   ],
   "source": [
    "import pandas as pd\n",
    "from collections import Counter\n",
    "import re\n",
    "\n",
    "# Load the dataset\n",
    "data = pd.read_csv(\"Dataset .csv\")\n",
    "# Ensure 'Reviews' and 'Aggregate rating' columns exist\n",
    "if 'Reviews' in data.columns and 'Aggregate rating' in data.columns:\n",
    "    # Filter out rows where reviews are NaN\n",
    "    reviews = data[['Reviews', 'Aggregate rating']].dropna()\n",
    "\n",
    "    # Function to clean and split text into words\n",
    "    def clean_text(text):\n",
    "        text = re.sub(r'[^\\w\\s]', '', text)  # Remove punctuation\n",
    "        return text.lower().split()\n",
    "\n",
    "    # Separate reviews into positive and negative based on ratings\n",
    "    positive_reviews = reviews[reviews['Aggregate rating'] > 4]['Reviews'].apply(clean_text)\n",
    "    negative_reviews = reviews[reviews['Aggregate rating'] <= 2]['Reviews'].apply(clean_text)\n",
    "\n",
    "    # Flatten lists of words\n",
    "    positive_words = [word for review in positive_reviews for word in review]\n",
    "    negative_words = [word for review in negative_reviews for word in review]\n",
    "\n",
    "    # Get the 10 most common words in positive and negative reviews\n",
    "    positive_keywords_list = Counter(positive_words).most_common(10)\n",
    "    negative_keywords_list = Counter(negative_words).most_common(10)\n",
    "\n",
    "    # Calculate average review length\n",
    "    average_review_length = reviews['Reviews'].apply(lambda x: len(x.split())).mean()\n",
    "\n",
    "    print(\"Positive Keywords:\", positive_keywords_list)\n",
    "    print(\"Negative Keywords:\", negative_keywords_list)\n",
    "    print(\"Average review length:\", average_review_length)\n",
    "else:\n",
    "    print(\"Required columns ('Reviews' and 'Aggregate rating') are not present in the dataset.\")\n"
   ]
  },
  {
   "cell_type": "markdown",
   "id": "aa83d8e4",
   "metadata": {},
   "source": [
    "# Task 2: Votes Analysis"
   ]
  },
  {
   "cell_type": "code",
   "execution_count": null,
   "id": "0076f671",
   "metadata": {},
   "outputs": [],
   "source": [
    "# Task 2: Identify restaurants with the highest and lowest number of votes and analyze correlation\n",
    "most_votes = df.nlargest(10, 'Votes')\n",
    "least_votes = df.nsmallest(10, 'Votes')\n",
    "most_votes\n",
    "least_votes"
   ]
  },
  {
   "cell_type": "code",
   "execution_count": null,
   "id": "6b649582",
   "metadata": {},
   "outputs": [],
   "source": [
    "correlation_votes_ratings = df['Votes'].corr(df['Aggregate rating'])\n",
    "correlation_votes_ratings"
   ]
  },
  {
   "cell_type": "code",
   "execution_count": null,
   "id": "5fb1272c",
   "metadata": {},
   "outputs": [],
   "source": [
    "print(\"Restaurants with the highest number of votes:\")\n",
    "print(most_votes[['Restaurant Name', 'Votes']])"
   ]
  },
  {
   "cell_type": "code",
   "execution_count": null,
   "id": "eada617c",
   "metadata": {},
   "outputs": [],
   "source": [
    "print(\"\\nRestaurants with the lowest number of votes:\")\n",
    "print(least_votes[['Restaurant Name', 'Votes']])"
   ]
  },
  {
   "cell_type": "code",
   "execution_count": null,
   "id": "9e986da1",
   "metadata": {},
   "outputs": [],
   "source": [
    "print(\"Correlation between votes and rating:\", correlation_votes_ratings)"
   ]
  },
  {
   "cell_type": "markdown",
   "id": "34bb7a36",
   "metadata": {},
   "source": [
    "# Task 3: Price Range vs. Online Delivery and Table Booking"
   ]
  },
  {
   "cell_type": "code",
   "execution_count": null,
   "id": "a8302a06",
   "metadata": {},
   "outputs": [],
   "source": [
    "import seaborn as sns"
   ]
  },
  {
   "cell_type": "code",
   "execution_count": null,
   "id": "c7959ff4",
   "metadata": {},
   "outputs": [],
   "source": [
    "# Task 3: Analyze relationship between price range and online delivery/table booking\n",
    "price_online_delivery = pd.crosstab(df['Price range'], df['Has Online delivery'])\n",
    "price_table_booking = pd.crosstab(df['Price range'], df['Has Table booking'])"
   ]
  },
  {
   "cell_type": "code",
   "execution_count": null,
   "id": "6854a8c5",
   "metadata": {},
   "outputs": [],
   "source": [
    "sns.heatmap(price_online_delivery, annot=True, fmt='d', cmap='YlGnBu')\n",
    "plt.title('Price Range vs Online Delivery')\n",
    "plt.show()"
   ]
  },
  {
   "cell_type": "code",
   "execution_count": null,
   "id": "cfda6ffb",
   "metadata": {},
   "outputs": [],
   "source": [
    "sns.heatmap(price_table_booking, annot=True, fmt='d', cmap='YlGnBu')\n",
    "plt.title('Price Range vs Table Booking')\n",
    "plt.show()"
   ]
  },
  {
   "cell_type": "code",
   "execution_count": null,
   "id": "3e0af5b0",
   "metadata": {},
   "outputs": [],
   "source": [
    "print(\"Price Range vs Online Delivery:\")\n",
    "print(price_online_delivery)"
   ]
  },
  {
   "cell_type": "code",
   "execution_count": null,
   "id": "6263b5fa",
   "metadata": {},
   "outputs": [],
   "source": [
    "print(\"\\nPrice Range vs Table Booking:\")\n",
    "print(price_table_booking)\n"
   ]
  },
  {
   "cell_type": "code",
   "execution_count": null,
   "id": "b482d7ef",
   "metadata": {},
   "outputs": [],
   "source": []
  }
 ],
 "metadata": {
  "kernelspec": {
   "display_name": "Python 3 (ipykernel)",
   "language": "python",
   "name": "python3"
  },
  "language_info": {
   "codemirror_mode": {
    "name": "ipython",
    "version": 3
   },
   "file_extension": ".py",
   "mimetype": "text/x-python",
   "name": "python",
   "nbconvert_exporter": "python",
   "pygments_lexer": "ipython3",
   "version": "3.11.3"
  }
 },
 "nbformat": 4,
 "nbformat_minor": 5
}
